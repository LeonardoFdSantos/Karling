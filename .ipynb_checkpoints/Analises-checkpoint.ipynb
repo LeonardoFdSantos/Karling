{
 "cells": [
  {
   "cell_type": "code",
   "execution_count": 1,
   "metadata": {
    "pycharm": {
     "is_executing": false
    }
   },
   "outputs": [],
   "source": [
    "import pandas as pd\n",
    "from pandas import ExcelWriter\n",
    "from pandas import ExcelFile\n",
    "import numpy as np\n",
    "import math as mt"
   ]
  },
  {
   "cell_type": "code",
   "execution_count": 2,
   "metadata": {
    "collapsed": false,
    "jupyter": {
     "outputs_hidden": false
    },
    "pycharm": {
     "is_executing": false,
     "name": "#%%\n"
    }
   },
   "outputs": [
    {
     "data": {
      "text/html": [
       "<div>\n",
       "<style scoped>\n",
       "    .dataframe tbody tr th:only-of-type {\n",
       "        vertical-align: middle;\n",
       "    }\n",
       "\n",
       "    .dataframe tbody tr th {\n",
       "        vertical-align: top;\n",
       "    }\n",
       "\n",
       "    .dataframe thead th {\n",
       "        text-align: right;\n",
       "    }\n",
       "</style>\n",
       "<table border=\"1\" class=\"dataframe\">\n",
       "  <thead>\n",
       "    <tr style=\"text-align: right;\">\n",
       "      <th></th>\n",
       "      <th>Data</th>\n",
       "      <th>Ocorrência</th>\n",
       "      <th>Freqüência</th>\n",
       "      <th>Tensão R</th>\n",
       "      <th>Corrente R</th>\n",
       "      <th>Fat.Pot. R</th>\n",
       "      <th>Tensão S</th>\n",
       "      <th>Corrente S</th>\n",
       "      <th>Fat.Pot. S</th>\n",
       "      <th>Tensão T</th>\n",
       "      <th>Corrente T</th>\n",
       "      <th>Fat.Pot T</th>\n",
       "    </tr>\n",
       "  </thead>\n",
       "  <tbody>\n",
       "    <tr>\n",
       "      <th>0</th>\n",
       "      <td>2019-12-10 15:47:41</td>\n",
       "      <td>26</td>\n",
       "      <td>60.0</td>\n",
       "      <td>218.14</td>\n",
       "      <td>0.25</td>\n",
       "      <td>1.0</td>\n",
       "      <td>218.37</td>\n",
       "      <td>0.25</td>\n",
       "      <td>1.0</td>\n",
       "      <td>0</td>\n",
       "      <td>0</td>\n",
       "      <td>1</td>\n",
       "    </tr>\n",
       "    <tr>\n",
       "      <th>1</th>\n",
       "      <td>2019-12-10 15:48:20</td>\n",
       "      <td>1</td>\n",
       "      <td>59.8</td>\n",
       "      <td>218.28</td>\n",
       "      <td>3.20</td>\n",
       "      <td>1.0</td>\n",
       "      <td>218.42</td>\n",
       "      <td>0.00</td>\n",
       "      <td>1.0</td>\n",
       "      <td>0</td>\n",
       "      <td>0</td>\n",
       "      <td>1</td>\n",
       "    </tr>\n",
       "    <tr>\n",
       "      <th>2</th>\n",
       "      <td>2019-12-10 15:48:30</td>\n",
       "      <td>1</td>\n",
       "      <td>60.0</td>\n",
       "      <td>218.95</td>\n",
       "      <td>3.35</td>\n",
       "      <td>1.0</td>\n",
       "      <td>218.50</td>\n",
       "      <td>0.00</td>\n",
       "      <td>1.0</td>\n",
       "      <td>0</td>\n",
       "      <td>0</td>\n",
       "      <td>1</td>\n",
       "    </tr>\n",
       "    <tr>\n",
       "      <th>3</th>\n",
       "      <td>2019-12-10 15:48:40</td>\n",
       "      <td>1</td>\n",
       "      <td>60.0</td>\n",
       "      <td>220.10</td>\n",
       "      <td>3.37</td>\n",
       "      <td>1.0</td>\n",
       "      <td>218.12</td>\n",
       "      <td>0.00</td>\n",
       "      <td>1.0</td>\n",
       "      <td>0</td>\n",
       "      <td>0</td>\n",
       "      <td>1</td>\n",
       "    </tr>\n",
       "    <tr>\n",
       "      <th>4</th>\n",
       "      <td>2019-12-10 15:48:50</td>\n",
       "      <td>1</td>\n",
       "      <td>60.0</td>\n",
       "      <td>220.06</td>\n",
       "      <td>3.42</td>\n",
       "      <td>1.0</td>\n",
       "      <td>218.00</td>\n",
       "      <td>0.00</td>\n",
       "      <td>1.0</td>\n",
       "      <td>0</td>\n",
       "      <td>0</td>\n",
       "      <td>1</td>\n",
       "    </tr>\n",
       "  </tbody>\n",
       "</table>\n",
       "</div>"
      ],
      "text/plain": [
       "                 Data  Ocorrência  Freqüência  Tensão R  Corrente R  \\\n",
       "0 2019-12-10 15:47:41          26        60.0    218.14        0.25   \n",
       "1 2019-12-10 15:48:20           1        59.8    218.28        3.20   \n",
       "2 2019-12-10 15:48:30           1        60.0    218.95        3.35   \n",
       "3 2019-12-10 15:48:40           1        60.0    220.10        3.37   \n",
       "4 2019-12-10 15:48:50           1        60.0    220.06        3.42   \n",
       "\n",
       "   Fat.Pot. R  Tensão S  Corrente S  Fat.Pot. S  Tensão T  Corrente T  \\\n",
       "0         1.0    218.37        0.25         1.0         0           0   \n",
       "1         1.0    218.42        0.00         1.0         0           0   \n",
       "2         1.0    218.50        0.00         1.0         0           0   \n",
       "3         1.0    218.12        0.00         1.0         0           0   \n",
       "4         1.0    218.00        0.00         1.0         0           0   \n",
       "\n",
       "   Fat.Pot T  \n",
       "0          1  \n",
       "1          1  \n",
       "2          1  \n",
       "3          1  \n",
       "4          1  "
      ]
     },
     "execution_count": 2,
     "metadata": {},
     "output_type": "execute_result"
    }
   ],
   "source": [
    "medicao = pd.read_excel('Medição.xlsx',sheet_name='Medição')\n",
    "medicao.head()"
   ]
  },
  {
   "cell_type": "code",
   "execution_count": 3,
   "metadata": {
    "pycharm": {
     "is_executing": false,
     "name": "#%%\n"
    }
   },
   "outputs": [
    {
     "data": {
      "text/html": [
       "<div>\n",
       "<style scoped>\n",
       "    .dataframe tbody tr th:only-of-type {\n",
       "        vertical-align: middle;\n",
       "    }\n",
       "\n",
       "    .dataframe tbody tr th {\n",
       "        vertical-align: top;\n",
       "    }\n",
       "\n",
       "    .dataframe thead th {\n",
       "        text-align: right;\n",
       "    }\n",
       "</style>\n",
       "<table border=\"1\" class=\"dataframe\">\n",
       "  <thead>\n",
       "    <tr style=\"text-align: right;\">\n",
       "      <th></th>\n",
       "      <th>Data</th>\n",
       "      <th>Tensão R</th>\n",
       "      <th>Corrente R</th>\n",
       "      <th>Fat.Pot. R</th>\n",
       "      <th>Tensão S</th>\n",
       "      <th>Corrente S</th>\n",
       "      <th>Fat.Pot. S</th>\n",
       "    </tr>\n",
       "  </thead>\n",
       "  <tbody>\n",
       "    <tr>\n",
       "      <th>0</th>\n",
       "      <td>2019-12-10 15:47:41</td>\n",
       "      <td>218.14</td>\n",
       "      <td>0.25</td>\n",
       "      <td>1.0</td>\n",
       "      <td>218.37</td>\n",
       "      <td>0.25</td>\n",
       "      <td>1.0</td>\n",
       "    </tr>\n",
       "    <tr>\n",
       "      <th>1</th>\n",
       "      <td>2019-12-10 15:48:20</td>\n",
       "      <td>218.28</td>\n",
       "      <td>3.20</td>\n",
       "      <td>1.0</td>\n",
       "      <td>218.42</td>\n",
       "      <td>0.00</td>\n",
       "      <td>1.0</td>\n",
       "    </tr>\n",
       "    <tr>\n",
       "      <th>2</th>\n",
       "      <td>2019-12-10 15:48:30</td>\n",
       "      <td>218.95</td>\n",
       "      <td>3.35</td>\n",
       "      <td>1.0</td>\n",
       "      <td>218.50</td>\n",
       "      <td>0.00</td>\n",
       "      <td>1.0</td>\n",
       "    </tr>\n",
       "    <tr>\n",
       "      <th>3</th>\n",
       "      <td>2019-12-10 15:48:40</td>\n",
       "      <td>220.10</td>\n",
       "      <td>3.37</td>\n",
       "      <td>1.0</td>\n",
       "      <td>218.12</td>\n",
       "      <td>0.00</td>\n",
       "      <td>1.0</td>\n",
       "    </tr>\n",
       "    <tr>\n",
       "      <th>4</th>\n",
       "      <td>2019-12-10 15:48:50</td>\n",
       "      <td>220.06</td>\n",
       "      <td>3.42</td>\n",
       "      <td>1.0</td>\n",
       "      <td>218.00</td>\n",
       "      <td>0.00</td>\n",
       "      <td>1.0</td>\n",
       "    </tr>\n",
       "  </tbody>\n",
       "</table>\n",
       "</div>"
      ],
      "text/plain": [
       "                 Data  Tensão R  Corrente R  Fat.Pot. R  Tensão S  Corrente S  \\\n",
       "0 2019-12-10 15:47:41    218.14        0.25         1.0    218.37        0.25   \n",
       "1 2019-12-10 15:48:20    218.28        3.20         1.0    218.42        0.00   \n",
       "2 2019-12-10 15:48:30    218.95        3.35         1.0    218.50        0.00   \n",
       "3 2019-12-10 15:48:40    220.10        3.37         1.0    218.12        0.00   \n",
       "4 2019-12-10 15:48:50    220.06        3.42         1.0    218.00        0.00   \n",
       "\n",
       "   Fat.Pot. S  \n",
       "0         1.0  \n",
       "1         1.0  \n",
       "2         1.0  \n",
       "3         1.0  \n",
       "4         1.0  "
      ]
     },
     "execution_count": 3,
     "metadata": {},
     "output_type": "execute_result"
    }
   ],
   "source": [
    "medicao.drop(columns={'Ocorrência','Freqüência','Fat.Pot T','Tensão T', 'Corrente T'}, inplace=True)\n",
    "medicao.head()"
   ]
  },
  {
   "cell_type": "code",
   "execution_count": 4,
   "metadata": {
    "collapsed": false,
    "jupyter": {
     "outputs_hidden": false
    },
    "pycharm": {
     "is_executing": false,
     "name": "#%%\n"
    }
   },
   "outputs": [
    {
     "data": {
      "text/html": [
       "<div>\n",
       "<style scoped>\n",
       "    .dataframe tbody tr th:only-of-type {\n",
       "        vertical-align: middle;\n",
       "    }\n",
       "\n",
       "    .dataframe tbody tr th {\n",
       "        vertical-align: top;\n",
       "    }\n",
       "\n",
       "    .dataframe thead th {\n",
       "        text-align: right;\n",
       "    }\n",
       "</style>\n",
       "<table border=\"1\" class=\"dataframe\">\n",
       "  <thead>\n",
       "    <tr style=\"text-align: right;\">\n",
       "      <th></th>\n",
       "      <th>Data</th>\n",
       "      <th>Tensão R</th>\n",
       "      <th>Corrente R</th>\n",
       "      <th>FP R</th>\n",
       "      <th>Tensão S</th>\n",
       "      <th>Corrente S</th>\n",
       "      <th>FP S</th>\n",
       "    </tr>\n",
       "  </thead>\n",
       "  <tbody>\n",
       "    <tr>\n",
       "      <th>0</th>\n",
       "      <td>2019-12-10 15:47:41</td>\n",
       "      <td>218.14</td>\n",
       "      <td>0.25</td>\n",
       "      <td>1.0</td>\n",
       "      <td>218.37</td>\n",
       "      <td>0.25</td>\n",
       "      <td>1.0</td>\n",
       "    </tr>\n",
       "    <tr>\n",
       "      <th>1</th>\n",
       "      <td>2019-12-10 15:48:20</td>\n",
       "      <td>218.28</td>\n",
       "      <td>3.20</td>\n",
       "      <td>1.0</td>\n",
       "      <td>218.42</td>\n",
       "      <td>0.00</td>\n",
       "      <td>1.0</td>\n",
       "    </tr>\n",
       "    <tr>\n",
       "      <th>2</th>\n",
       "      <td>2019-12-10 15:48:30</td>\n",
       "      <td>218.95</td>\n",
       "      <td>3.35</td>\n",
       "      <td>1.0</td>\n",
       "      <td>218.50</td>\n",
       "      <td>0.00</td>\n",
       "      <td>1.0</td>\n",
       "    </tr>\n",
       "    <tr>\n",
       "      <th>3</th>\n",
       "      <td>2019-12-10 15:48:40</td>\n",
       "      <td>220.10</td>\n",
       "      <td>3.37</td>\n",
       "      <td>1.0</td>\n",
       "      <td>218.12</td>\n",
       "      <td>0.00</td>\n",
       "      <td>1.0</td>\n",
       "    </tr>\n",
       "    <tr>\n",
       "      <th>4</th>\n",
       "      <td>2019-12-10 15:48:50</td>\n",
       "      <td>220.06</td>\n",
       "      <td>3.42</td>\n",
       "      <td>1.0</td>\n",
       "      <td>218.00</td>\n",
       "      <td>0.00</td>\n",
       "      <td>1.0</td>\n",
       "    </tr>\n",
       "  </tbody>\n",
       "</table>\n",
       "</div>"
      ],
      "text/plain": [
       "                 Data  Tensão R  Corrente R  FP R  Tensão S  Corrente S  FP S\n",
       "0 2019-12-10 15:47:41    218.14        0.25   1.0    218.37        0.25   1.0\n",
       "1 2019-12-10 15:48:20    218.28        3.20   1.0    218.42        0.00   1.0\n",
       "2 2019-12-10 15:48:30    218.95        3.35   1.0    218.50        0.00   1.0\n",
       "3 2019-12-10 15:48:40    220.10        3.37   1.0    218.12        0.00   1.0\n",
       "4 2019-12-10 15:48:50    220.06        3.42   1.0    218.00        0.00   1.0"
      ]
     },
     "execution_count": 4,
     "metadata": {},
     "output_type": "execute_result"
    }
   ],
   "source": [
    "medicao.rename(columns ={'Fat.Pot. S': 'FP S', \n",
    "                            'Fat.Pot. R': 'FP R'}, inplace=True)\n",
    "medicao.head()"
   ]
  },
  {
   "cell_type": "code",
   "execution_count": 5,
   "metadata": {
    "collapsed": false,
    "jupyter": {
     "outputs_hidden": false
    },
    "pycharm": {
     "is_executing": false,
     "name": "#%%\n"
    }
   },
   "outputs": [],
   "source": [
    "#medicao.set_index('Data',inplace=True)"
   ]
  },
  {
   "cell_type": "code",
   "execution_count": 6,
   "metadata": {
    "collapsed": false,
    "jupyter": {
     "outputs_hidden": false
    },
    "pycharm": {
     "is_executing": false,
     "name": "#%%\n"
    }
   },
   "outputs": [
    {
     "data": {
      "text/html": [
       "<div>\n",
       "<style scoped>\n",
       "    .dataframe tbody tr th:only-of-type {\n",
       "        vertical-align: middle;\n",
       "    }\n",
       "\n",
       "    .dataframe tbody tr th {\n",
       "        vertical-align: top;\n",
       "    }\n",
       "\n",
       "    .dataframe thead th {\n",
       "        text-align: right;\n",
       "    }\n",
       "</style>\n",
       "<table border=\"1\" class=\"dataframe\">\n",
       "  <thead>\n",
       "    <tr style=\"text-align: right;\">\n",
       "      <th></th>\n",
       "      <th>Data</th>\n",
       "      <th>Tensão R</th>\n",
       "      <th>Corrente R</th>\n",
       "      <th>FP R</th>\n",
       "      <th>Tensão S</th>\n",
       "      <th>Corrente S</th>\n",
       "      <th>FP S</th>\n",
       "    </tr>\n",
       "  </thead>\n",
       "  <tbody>\n",
       "    <tr>\n",
       "      <th>0</th>\n",
       "      <td>2019-12-10 15:47:41</td>\n",
       "      <td>218.14</td>\n",
       "      <td>0.25</td>\n",
       "      <td>1.0</td>\n",
       "      <td>218.37</td>\n",
       "      <td>0.25</td>\n",
       "      <td>1.0</td>\n",
       "    </tr>\n",
       "    <tr>\n",
       "      <th>1</th>\n",
       "      <td>2019-12-10 15:48:20</td>\n",
       "      <td>218.28</td>\n",
       "      <td>3.20</td>\n",
       "      <td>1.0</td>\n",
       "      <td>218.42</td>\n",
       "      <td>0.00</td>\n",
       "      <td>1.0</td>\n",
       "    </tr>\n",
       "    <tr>\n",
       "      <th>2</th>\n",
       "      <td>2019-12-10 15:48:30</td>\n",
       "      <td>218.95</td>\n",
       "      <td>3.35</td>\n",
       "      <td>1.0</td>\n",
       "      <td>218.50</td>\n",
       "      <td>0.00</td>\n",
       "      <td>1.0</td>\n",
       "    </tr>\n",
       "    <tr>\n",
       "      <th>3</th>\n",
       "      <td>2019-12-10 15:48:40</td>\n",
       "      <td>220.10</td>\n",
       "      <td>3.37</td>\n",
       "      <td>1.0</td>\n",
       "      <td>218.12</td>\n",
       "      <td>0.00</td>\n",
       "      <td>1.0</td>\n",
       "    </tr>\n",
       "    <tr>\n",
       "      <th>4</th>\n",
       "      <td>2019-12-10 15:48:50</td>\n",
       "      <td>220.06</td>\n",
       "      <td>3.42</td>\n",
       "      <td>1.0</td>\n",
       "      <td>218.00</td>\n",
       "      <td>0.00</td>\n",
       "      <td>1.0</td>\n",
       "    </tr>\n",
       "    <tr>\n",
       "      <th>...</th>\n",
       "      <td>...</td>\n",
       "      <td>...</td>\n",
       "      <td>...</td>\n",
       "      <td>...</td>\n",
       "      <td>...</td>\n",
       "      <td>...</td>\n",
       "      <td>...</td>\n",
       "    </tr>\n",
       "    <tr>\n",
       "      <th>51153</th>\n",
       "      <td>2019-12-16 16:03:50</td>\n",
       "      <td>223.57</td>\n",
       "      <td>0.00</td>\n",
       "      <td>1.0</td>\n",
       "      <td>224.64</td>\n",
       "      <td>0.00</td>\n",
       "      <td>1.0</td>\n",
       "    </tr>\n",
       "    <tr>\n",
       "      <th>51154</th>\n",
       "      <td>2019-12-16 16:04:00</td>\n",
       "      <td>223.60</td>\n",
       "      <td>0.00</td>\n",
       "      <td>1.0</td>\n",
       "      <td>224.82</td>\n",
       "      <td>0.00</td>\n",
       "      <td>1.0</td>\n",
       "    </tr>\n",
       "    <tr>\n",
       "      <th>51155</th>\n",
       "      <td>2019-12-16 16:04:14</td>\n",
       "      <td>223.71</td>\n",
       "      <td>0.00</td>\n",
       "      <td>1.0</td>\n",
       "      <td>224.82</td>\n",
       "      <td>0.00</td>\n",
       "      <td>1.0</td>\n",
       "    </tr>\n",
       "    <tr>\n",
       "      <th>51156</th>\n",
       "      <td>2019-12-16 16:04:20</td>\n",
       "      <td>223.64</td>\n",
       "      <td>0.00</td>\n",
       "      <td>1.0</td>\n",
       "      <td>224.78</td>\n",
       "      <td>0.00</td>\n",
       "      <td>1.0</td>\n",
       "    </tr>\n",
       "    <tr>\n",
       "      <th>51157</th>\n",
       "      <td>2019-12-16 16:04:30</td>\n",
       "      <td>223.67</td>\n",
       "      <td>0.00</td>\n",
       "      <td>1.0</td>\n",
       "      <td>224.42</td>\n",
       "      <td>0.00</td>\n",
       "      <td>1.0</td>\n",
       "    </tr>\n",
       "  </tbody>\n",
       "</table>\n",
       "<p>51158 rows × 7 columns</p>\n",
       "</div>"
      ],
      "text/plain": [
       "                     Data  Tensão R  Corrente R  FP R  Tensão S  Corrente S  \\\n",
       "0     2019-12-10 15:47:41    218.14        0.25   1.0    218.37        0.25   \n",
       "1     2019-12-10 15:48:20    218.28        3.20   1.0    218.42        0.00   \n",
       "2     2019-12-10 15:48:30    218.95        3.35   1.0    218.50        0.00   \n",
       "3     2019-12-10 15:48:40    220.10        3.37   1.0    218.12        0.00   \n",
       "4     2019-12-10 15:48:50    220.06        3.42   1.0    218.00        0.00   \n",
       "...                   ...       ...         ...   ...       ...         ...   \n",
       "51153 2019-12-16 16:03:50    223.57        0.00   1.0    224.64        0.00   \n",
       "51154 2019-12-16 16:04:00    223.60        0.00   1.0    224.82        0.00   \n",
       "51155 2019-12-16 16:04:14    223.71        0.00   1.0    224.82        0.00   \n",
       "51156 2019-12-16 16:04:20    223.64        0.00   1.0    224.78        0.00   \n",
       "51157 2019-12-16 16:04:30    223.67        0.00   1.0    224.42        0.00   \n",
       "\n",
       "       FP S  \n",
       "0       1.0  \n",
       "1       1.0  \n",
       "2       1.0  \n",
       "3       1.0  \n",
       "4       1.0  \n",
       "...     ...  \n",
       "51153   1.0  \n",
       "51154   1.0  \n",
       "51155   1.0  \n",
       "51156   1.0  \n",
       "51157   1.0  \n",
       "\n",
       "[51158 rows x 7 columns]"
      ]
     },
     "execution_count": 6,
     "metadata": {},
     "output_type": "execute_result"
    }
   ],
   "source": [
    "medicao"
   ]
  },
  {
   "cell_type": "code",
   "execution_count": 7,
   "metadata": {
    "collapsed": false,
    "jupyter": {
     "outputs_hidden": false
    },
    "pycharm": {
     "is_executing": false,
     "name": "#%%\n"
    }
   },
   "outputs": [
    {
     "ename": "FileCreateError",
     "evalue": "[Errno 13] Permission denied: 'Analises.xlsx'",
     "output_type": "error",
     "traceback": [
      "\u001b[1;31m---------------------------------------------------------------------------\u001b[0m",
      "\u001b[1;31mPermissionError\u001b[0m                           Traceback (most recent call last)",
      "\u001b[1;32m~\\.conda\\envs\\pyleo\\lib\\site-packages\\xlsxwriter\\workbook.py\u001b[0m in \u001b[0;36mclose\u001b[1;34m(self)\u001b[0m\n\u001b[0;32m    314\u001b[0m             \u001b[1;32mtry\u001b[0m\u001b[1;33m:\u001b[0m\u001b[1;33m\u001b[0m\u001b[1;33m\u001b[0m\u001b[0m\n\u001b[1;32m--> 315\u001b[1;33m                 \u001b[0mself\u001b[0m\u001b[1;33m.\u001b[0m\u001b[0m_store_workbook\u001b[0m\u001b[1;33m(\u001b[0m\u001b[1;33m)\u001b[0m\u001b[1;33m\u001b[0m\u001b[1;33m\u001b[0m\u001b[0m\n\u001b[0m\u001b[0;32m    316\u001b[0m             \u001b[1;32mexcept\u001b[0m \u001b[0mIOError\u001b[0m \u001b[1;32mas\u001b[0m \u001b[0me\u001b[0m\u001b[1;33m:\u001b[0m\u001b[1;33m\u001b[0m\u001b[1;33m\u001b[0m\u001b[0m\n",
      "\u001b[1;32m~\\.conda\\envs\\pyleo\\lib\\site-packages\\xlsxwriter\\workbook.py\u001b[0m in \u001b[0;36m_store_workbook\u001b[1;34m(self)\u001b[0m\n\u001b[0;32m    630\u001b[0m         \u001b[1;32mexcept\u001b[0m \u001b[0mIOError\u001b[0m \u001b[1;32mas\u001b[0m \u001b[0me\u001b[0m\u001b[1;33m:\u001b[0m\u001b[1;33m\u001b[0m\u001b[1;33m\u001b[0m\u001b[0m\n\u001b[1;32m--> 631\u001b[1;33m             \u001b[1;32mraise\u001b[0m \u001b[0me\u001b[0m\u001b[1;33m\u001b[0m\u001b[1;33m\u001b[0m\u001b[0m\n\u001b[0m\u001b[0;32m    632\u001b[0m \u001b[1;33m\u001b[0m\u001b[0m\n",
      "\u001b[1;32m~\\.conda\\envs\\pyleo\\lib\\site-packages\\xlsxwriter\\workbook.py\u001b[0m in \u001b[0;36m_store_workbook\u001b[1;34m(self)\u001b[0m\n\u001b[0;32m    628\u001b[0m             xlsx_file = ZipFile(self.filename, \"w\", compression=ZIP_DEFLATED,\n\u001b[1;32m--> 629\u001b[1;33m                                 allowZip64=self.allow_zip64)\n\u001b[0m\u001b[0;32m    630\u001b[0m         \u001b[1;32mexcept\u001b[0m \u001b[0mIOError\u001b[0m \u001b[1;32mas\u001b[0m \u001b[0me\u001b[0m\u001b[1;33m:\u001b[0m\u001b[1;33m\u001b[0m\u001b[1;33m\u001b[0m\u001b[0m\n",
      "\u001b[1;32m~\\.conda\\envs\\pyleo\\lib\\zipfile.py\u001b[0m in \u001b[0;36m__init__\u001b[1;34m(self, file, mode, compression, allowZip64)\u001b[0m\n\u001b[0;32m   1112\u001b[0m                 \u001b[1;32mtry\u001b[0m\u001b[1;33m:\u001b[0m\u001b[1;33m\u001b[0m\u001b[1;33m\u001b[0m\u001b[0m\n\u001b[1;32m-> 1113\u001b[1;33m                     \u001b[0mself\u001b[0m\u001b[1;33m.\u001b[0m\u001b[0mfp\u001b[0m \u001b[1;33m=\u001b[0m \u001b[0mio\u001b[0m\u001b[1;33m.\u001b[0m\u001b[0mopen\u001b[0m\u001b[1;33m(\u001b[0m\u001b[0mfile\u001b[0m\u001b[1;33m,\u001b[0m \u001b[0mfilemode\u001b[0m\u001b[1;33m)\u001b[0m\u001b[1;33m\u001b[0m\u001b[1;33m\u001b[0m\u001b[0m\n\u001b[0m\u001b[0;32m   1114\u001b[0m                 \u001b[1;32mexcept\u001b[0m \u001b[0mOSError\u001b[0m\u001b[1;33m:\u001b[0m\u001b[1;33m\u001b[0m\u001b[1;33m\u001b[0m\u001b[0m\n",
      "\u001b[1;31mPermissionError\u001b[0m: [Errno 13] Permission denied: 'Analises.xlsx'",
      "\nDuring handling of the above exception, another exception occurred:\n",
      "\u001b[1;31mFileCreateError\u001b[0m                           Traceback (most recent call last)",
      "\u001b[1;32m<ipython-input-7-0f8115a6d033>\u001b[0m in \u001b[0;36m<module>\u001b[1;34m\u001b[0m\n\u001b[0;32m      4\u001b[0m                             date_format='mmmm-dd-yyyy',)\n\u001b[0;32m      5\u001b[0m \u001b[0mmedicao\u001b[0m\u001b[1;33m.\u001b[0m\u001b[0mto_excel\u001b[0m\u001b[1;33m(\u001b[0m\u001b[0mexceldados\u001b[0m\u001b[1;33m,\u001b[0m \u001b[0msheet_name\u001b[0m\u001b[1;33m=\u001b[0m\u001b[1;34m'Analise Karling'\u001b[0m\u001b[1;33m)\u001b[0m\u001b[1;33m\u001b[0m\u001b[1;33m\u001b[0m\u001b[0m\n\u001b[1;32m----> 6\u001b[1;33m \u001b[0mexceldados\u001b[0m\u001b[1;33m.\u001b[0m\u001b[0msave\u001b[0m\u001b[1;33m(\u001b[0m\u001b[1;33m)\u001b[0m\u001b[1;33m\u001b[0m\u001b[1;33m\u001b[0m\u001b[0m\n\u001b[0m",
      "\u001b[1;32m~\\.conda\\envs\\pyleo\\lib\\site-packages\\pandas\\io\\excel\\_xlsxwriter.py\u001b[0m in \u001b[0;36msave\u001b[1;34m(self)\u001b[0m\n\u001b[0;32m    193\u001b[0m         \"\"\"\n\u001b[0;32m    194\u001b[0m \u001b[1;33m\u001b[0m\u001b[0m\n\u001b[1;32m--> 195\u001b[1;33m         \u001b[1;32mreturn\u001b[0m \u001b[0mself\u001b[0m\u001b[1;33m.\u001b[0m\u001b[0mbook\u001b[0m\u001b[1;33m.\u001b[0m\u001b[0mclose\u001b[0m\u001b[1;33m(\u001b[0m\u001b[1;33m)\u001b[0m\u001b[1;33m\u001b[0m\u001b[1;33m\u001b[0m\u001b[0m\n\u001b[0m\u001b[0;32m    196\u001b[0m \u001b[1;33m\u001b[0m\u001b[0m\n\u001b[0;32m    197\u001b[0m     def write_cells(\n",
      "\u001b[1;32m~\\.conda\\envs\\pyleo\\lib\\site-packages\\xlsxwriter\\workbook.py\u001b[0m in \u001b[0;36mclose\u001b[1;34m(self)\u001b[0m\n\u001b[0;32m    315\u001b[0m                 \u001b[0mself\u001b[0m\u001b[1;33m.\u001b[0m\u001b[0m_store_workbook\u001b[0m\u001b[1;33m(\u001b[0m\u001b[1;33m)\u001b[0m\u001b[1;33m\u001b[0m\u001b[1;33m\u001b[0m\u001b[0m\n\u001b[0;32m    316\u001b[0m             \u001b[1;32mexcept\u001b[0m \u001b[0mIOError\u001b[0m \u001b[1;32mas\u001b[0m \u001b[0me\u001b[0m\u001b[1;33m:\u001b[0m\u001b[1;33m\u001b[0m\u001b[1;33m\u001b[0m\u001b[0m\n\u001b[1;32m--> 317\u001b[1;33m                 \u001b[1;32mraise\u001b[0m \u001b[0mFileCreateError\u001b[0m\u001b[1;33m(\u001b[0m\u001b[0me\u001b[0m\u001b[1;33m)\u001b[0m\u001b[1;33m\u001b[0m\u001b[1;33m\u001b[0m\u001b[0m\n\u001b[0m\u001b[0;32m    318\u001b[0m             \u001b[1;32mexcept\u001b[0m \u001b[0mLargeZipFile\u001b[0m \u001b[1;32mas\u001b[0m \u001b[0me\u001b[0m\u001b[1;33m:\u001b[0m\u001b[1;33m\u001b[0m\u001b[1;33m\u001b[0m\u001b[0m\n\u001b[0;32m    319\u001b[0m                 raise FileSizeError(\"Filesize would require ZIP64 extensions. \"\n",
      "\u001b[1;31mFileCreateError\u001b[0m: [Errno 13] Permission denied: 'Analises.xlsx'"
     ]
    }
   ],
   "source": [
    "exceldados = pd.ExcelWriter('Analises.xlsx',\n",
    "                            engine='xlsxwriter',\n",
    "                            datetime_format='mmm-d-yyyy hh:mm:ss',\n",
    "                            date_format='mmmm-dd-yyyy',)\n",
    "medicao.to_excel(exceldados, sheet_name='Analise Karling')\n",
    "exceldados.save()"
   ]
  },
  {
   "cell_type": "code",
   "execution_count": null,
   "metadata": {
    "collapsed": false,
    "jupyter": {
     "outputs_hidden": false
    },
    "pycharm": {
     "is_executing": false,
     "name": "#%%\n"
    }
   },
   "outputs": [],
   "source": [
    "from win32com.client import Dispatch\n",
    "\n",
    "appexcel = Dispatch('Excel.Application')\n",
    "wb = appexcel.Workbooks.Open('C:\\\\Dev\\\\GitsLeo\\\\Karling\\\\Analises.xlsx')\n",
    "\n",
    "for i in range (1, 2, 1):\n",
    "    appexcel.Worksheets(i).Activate()\n",
    "    appexcel.ActiveSheet.Columns.AutoFit()\n",
    "\n",
    "appexcel.Worksheets(1).Activate()\n",
    "wb.Save()\n",
    "wb.Close()"
   ]
  },
  {
   "cell_type": "code",
   "execution_count": 8,
   "metadata": {
    "collapsed": false,
    "jupyter": {
     "outputs_hidden": false
    },
    "pycharm": {
     "is_executing": false,
     "name": "#%%\n"
    }
   },
   "outputs": [
    {
     "data": {
      "text/html": [
       "<div>\n",
       "<style scoped>\n",
       "    .dataframe tbody tr th:only-of-type {\n",
       "        vertical-align: middle;\n",
       "    }\n",
       "\n",
       "    .dataframe tbody tr th {\n",
       "        vertical-align: top;\n",
       "    }\n",
       "\n",
       "    .dataframe thead th {\n",
       "        text-align: right;\n",
       "    }\n",
       "</style>\n",
       "<table border=\"1\" class=\"dataframe\">\n",
       "  <thead>\n",
       "    <tr style=\"text-align: right;\">\n",
       "      <th></th>\n",
       "      <th>Data</th>\n",
       "      <th>Tensão R</th>\n",
       "      <th>Corrente R</th>\n",
       "      <th>FP R</th>\n",
       "      <th>Tensão S</th>\n",
       "      <th>Corrente S</th>\n",
       "      <th>FP S</th>\n",
       "    </tr>\n",
       "  </thead>\n",
       "  <tbody>\n",
       "    <tr>\n",
       "      <th>2059</th>\n",
       "      <td>2019-12-10 21:31:20</td>\n",
       "      <td>213.85</td>\n",
       "      <td>17.37</td>\n",
       "      <td>0.95</td>\n",
       "      <td>221.07</td>\n",
       "      <td>10.02</td>\n",
       "      <td>1.0</td>\n",
       "    </tr>\n",
       "    <tr>\n",
       "      <th>2061</th>\n",
       "      <td>2019-12-10 21:31:40</td>\n",
       "      <td>213.37</td>\n",
       "      <td>17.37</td>\n",
       "      <td>0.95</td>\n",
       "      <td>221.87</td>\n",
       "      <td>10.02</td>\n",
       "      <td>1.0</td>\n",
       "    </tr>\n",
       "    <tr>\n",
       "      <th>2062</th>\n",
       "      <td>2019-12-10 21:31:50</td>\n",
       "      <td>213.28</td>\n",
       "      <td>17.42</td>\n",
       "      <td>0.95</td>\n",
       "      <td>222.00</td>\n",
       "      <td>10.05</td>\n",
       "      <td>1.0</td>\n",
       "    </tr>\n",
       "    <tr>\n",
       "      <th>2063</th>\n",
       "      <td>2019-12-10 21:32:00</td>\n",
       "      <td>213.23</td>\n",
       "      <td>17.45</td>\n",
       "      <td>0.95</td>\n",
       "      <td>221.95</td>\n",
       "      <td>10.10</td>\n",
       "      <td>1.0</td>\n",
       "    </tr>\n",
       "    <tr>\n",
       "      <th>2064</th>\n",
       "      <td>2019-12-10 21:32:10</td>\n",
       "      <td>212.84</td>\n",
       "      <td>17.42</td>\n",
       "      <td>0.95</td>\n",
       "      <td>221.46</td>\n",
       "      <td>10.10</td>\n",
       "      <td>1.0</td>\n",
       "    </tr>\n",
       "  </tbody>\n",
       "</table>\n",
       "</div>"
      ],
      "text/plain": [
       "                    Data  Tensão R  Corrente R  FP R  Tensão S  Corrente S  \\\n",
       "2059 2019-12-10 21:31:20    213.85       17.37  0.95    221.07       10.02   \n",
       "2061 2019-12-10 21:31:40    213.37       17.37  0.95    221.87       10.02   \n",
       "2062 2019-12-10 21:31:50    213.28       17.42  0.95    222.00       10.05   \n",
       "2063 2019-12-10 21:32:00    213.23       17.45  0.95    221.95       10.10   \n",
       "2064 2019-12-10 21:32:10    212.84       17.42  0.95    221.46       10.10   \n",
       "\n",
       "      FP S  \n",
       "2059   1.0  \n",
       "2061   1.0  \n",
       "2062   1.0  \n",
       "2063   1.0  \n",
       "2064   1.0  "
      ]
     },
     "execution_count": 8,
     "metadata": {},
     "output_type": "execute_result"
    }
   ],
   "source": [
    "separacao_S = medicao.loc[((medicao[\"Corrente S\"] > 10))]\n",
    "separacao_S.head()"
   ]
  },
  {
   "cell_type": "code",
   "execution_count": 9,
   "metadata": {
    "collapsed": false,
    "jupyter": {
     "outputs_hidden": false
    },
    "pycharm": {
     "is_executing": false,
     "name": "#%%\n"
    }
   },
   "outputs": [
    {
     "data": {
      "text/html": [
       "<div>\n",
       "<style scoped>\n",
       "    .dataframe tbody tr th:only-of-type {\n",
       "        vertical-align: middle;\n",
       "    }\n",
       "\n",
       "    .dataframe tbody tr th {\n",
       "        vertical-align: top;\n",
       "    }\n",
       "\n",
       "    .dataframe thead th {\n",
       "        text-align: right;\n",
       "    }\n",
       "</style>\n",
       "<table border=\"1\" class=\"dataframe\">\n",
       "  <thead>\n",
       "    <tr style=\"text-align: right;\">\n",
       "      <th></th>\n",
       "      <th>Data</th>\n",
       "      <th>Tensão R</th>\n",
       "      <th>Corrente R</th>\n",
       "      <th>FP R</th>\n",
       "      <th>Tensão S</th>\n",
       "      <th>Corrente S</th>\n",
       "      <th>FP S</th>\n",
       "    </tr>\n",
       "  </thead>\n",
       "  <tbody>\n",
       "    <tr>\n",
       "      <th>21</th>\n",
       "      <td>2019-12-10 15:51:40</td>\n",
       "      <td>217.37</td>\n",
       "      <td>12.47</td>\n",
       "      <td>1.0</td>\n",
       "      <td>217.78</td>\n",
       "      <td>0.00</td>\n",
       "      <td>1.0</td>\n",
       "    </tr>\n",
       "    <tr>\n",
       "      <th>22</th>\n",
       "      <td>2019-12-10 15:51:50</td>\n",
       "      <td>216.31</td>\n",
       "      <td>17.77</td>\n",
       "      <td>1.0</td>\n",
       "      <td>218.14</td>\n",
       "      <td>0.00</td>\n",
       "      <td>1.0</td>\n",
       "    </tr>\n",
       "    <tr>\n",
       "      <th>23</th>\n",
       "      <td>2019-12-10 15:52:00</td>\n",
       "      <td>216.53</td>\n",
       "      <td>17.60</td>\n",
       "      <td>1.0</td>\n",
       "      <td>217.50</td>\n",
       "      <td>3.75</td>\n",
       "      <td>1.0</td>\n",
       "    </tr>\n",
       "    <tr>\n",
       "      <th>24</th>\n",
       "      <td>2019-12-10 15:52:10</td>\n",
       "      <td>216.53</td>\n",
       "      <td>17.72</td>\n",
       "      <td>1.0</td>\n",
       "      <td>217.35</td>\n",
       "      <td>5.07</td>\n",
       "      <td>1.0</td>\n",
       "    </tr>\n",
       "    <tr>\n",
       "      <th>25</th>\n",
       "      <td>2019-12-10 15:52:20</td>\n",
       "      <td>216.89</td>\n",
       "      <td>17.72</td>\n",
       "      <td>1.0</td>\n",
       "      <td>216.67</td>\n",
       "      <td>8.35</td>\n",
       "      <td>1.0</td>\n",
       "    </tr>\n",
       "  </tbody>\n",
       "</table>\n",
       "</div>"
      ],
      "text/plain": [
       "                  Data  Tensão R  Corrente R  FP R  Tensão S  Corrente S  FP S\n",
       "21 2019-12-10 15:51:40    217.37       12.47   1.0    217.78        0.00   1.0\n",
       "22 2019-12-10 15:51:50    216.31       17.77   1.0    218.14        0.00   1.0\n",
       "23 2019-12-10 15:52:00    216.53       17.60   1.0    217.50        3.75   1.0\n",
       "24 2019-12-10 15:52:10    216.53       17.72   1.0    217.35        5.07   1.0\n",
       "25 2019-12-10 15:52:20    216.89       17.72   1.0    216.67        8.35   1.0"
      ]
     },
     "execution_count": 9,
     "metadata": {},
     "output_type": "execute_result"
    }
   ],
   "source": [
    "separacao_R = medicao.loc[((medicao[\"Corrente R\"] > 10))]\n",
    "separacao_R.head()"
   ]
  },
  {
   "cell_type": "code",
   "execution_count": 10,
   "metadata": {
    "collapsed": false,
    "jupyter": {
     "outputs_hidden": false
    },
    "pycharm": {
     "is_executing": false,
     "name": "#%%\n"
    }
   },
   "outputs": [
    {
     "data": {
      "text/plain": [
       "count    1134.000000\n",
       "mean       13.485185\n",
       "std         5.058024\n",
       "min        10.050000\n",
       "25%        10.570000\n",
       "50%        11.170000\n",
       "75%        13.992500\n",
       "max        32.650000\n",
       "Name: Corrente R, dtype: float64"
      ]
     },
     "execution_count": 10,
     "metadata": {},
     "output_type": "execute_result"
    }
   ],
   "source": [
    "separacao_R['Corrente R'].describe()"
   ]
  },
  {
   "cell_type": "code",
   "execution_count": 11,
   "metadata": {
    "collapsed": false,
    "jupyter": {
     "outputs_hidden": false
    },
    "pycharm": {
     "is_executing": false,
     "name": "#%%\n"
    }
   },
   "outputs": [
    {
     "data": {
      "text/plain": [
       "count    1020.000000\n",
       "mean       12.130284\n",
       "std         3.118662\n",
       "min        10.020000\n",
       "25%        10.320000\n",
       "50%        10.950000\n",
       "75%        13.050000\n",
       "max        37.450000\n",
       "Name: Corrente S, dtype: float64"
      ]
     },
     "execution_count": 11,
     "metadata": {},
     "output_type": "execute_result"
    }
   ],
   "source": [
    "separacao_S['Corrente S'].describe()"
   ]
  },
  {
   "cell_type": "code",
   "execution_count": 12,
   "metadata": {
    "collapsed": false,
    "jupyter": {
     "outputs_hidden": false
    },
    "pycharm": {
     "is_executing": false,
     "name": "#%%\n"
    }
   },
   "outputs": [
    {
     "name": "stderr",
     "output_type": "stream",
     "text": [
      "C:\\Users\\ENERGENS_04\\.conda\\envs\\pyleo\\lib\\site-packages\\pandas\\core\\frame.py:4117: SettingWithCopyWarning: \n",
      "A value is trying to be set on a copy of a slice from a DataFrame\n",
      "\n",
      "See the caveats in the documentation: http://pandas.pydata.org/pandas-docs/stable/user_guide/indexing.html#returning-a-view-versus-a-copy\n",
      "  errors=errors,\n"
     ]
    },
    {
     "data": {
      "text/html": [
       "<div>\n",
       "<style scoped>\n",
       "    .dataframe tbody tr th:only-of-type {\n",
       "        vertical-align: middle;\n",
       "    }\n",
       "\n",
       "    .dataframe tbody tr th {\n",
       "        vertical-align: top;\n",
       "    }\n",
       "\n",
       "    .dataframe thead th {\n",
       "        text-align: right;\n",
       "    }\n",
       "</style>\n",
       "<table border=\"1\" class=\"dataframe\">\n",
       "  <thead>\n",
       "    <tr style=\"text-align: right;\">\n",
       "      <th></th>\n",
       "      <th>Data</th>\n",
       "      <th>Tensão R</th>\n",
       "      <th>Corrente R</th>\n",
       "    </tr>\n",
       "  </thead>\n",
       "  <tbody>\n",
       "    <tr>\n",
       "      <th>21</th>\n",
       "      <td>2019-12-10 15:51:40</td>\n",
       "      <td>217.37</td>\n",
       "      <td>12.47</td>\n",
       "    </tr>\n",
       "    <tr>\n",
       "      <th>22</th>\n",
       "      <td>2019-12-10 15:51:50</td>\n",
       "      <td>216.31</td>\n",
       "      <td>17.77</td>\n",
       "    </tr>\n",
       "    <tr>\n",
       "      <th>23</th>\n",
       "      <td>2019-12-10 15:52:00</td>\n",
       "      <td>216.53</td>\n",
       "      <td>17.60</td>\n",
       "    </tr>\n",
       "    <tr>\n",
       "      <th>24</th>\n",
       "      <td>2019-12-10 15:52:10</td>\n",
       "      <td>216.53</td>\n",
       "      <td>17.72</td>\n",
       "    </tr>\n",
       "    <tr>\n",
       "      <th>25</th>\n",
       "      <td>2019-12-10 15:52:20</td>\n",
       "      <td>216.89</td>\n",
       "      <td>17.72</td>\n",
       "    </tr>\n",
       "  </tbody>\n",
       "</table>\n",
       "</div>"
      ],
      "text/plain": [
       "                  Data  Tensão R  Corrente R\n",
       "21 2019-12-10 15:51:40    217.37       12.47\n",
       "22 2019-12-10 15:51:50    216.31       17.77\n",
       "23 2019-12-10 15:52:00    216.53       17.60\n",
       "24 2019-12-10 15:52:10    216.53       17.72\n",
       "25 2019-12-10 15:52:20    216.89       17.72"
      ]
     },
     "execution_count": 12,
     "metadata": {},
     "output_type": "execute_result"
    }
   ],
   "source": [
    "separacao_R.drop(columns={'Tensão S','Corrente S','FP S','FP R'}, inplace=True)\n",
    "separacao_S.drop(columns={'Tensão R','Corrente R','FP R','FP S'}, inplace=True)\n",
    "exceldados = pd.ExcelWriter('Analises.xlsx',\n",
    "                            engine='xlsxwriter',\n",
    "                            datetime_format='mmm-d-yyyy hh:mm:ss',\n",
    "                            date_format='mmmm-dd-yyyy',)\n",
    "medicao.to_excel(exceldados, sheet_name='Analise Karling')\n",
    "separacao_R.to_excel(exceldados, sheet_name='analise R')\n",
    "separacao_S.to_excel(exceldados, sheet_name='analise S')\n",
    "exceldados.save()\n",
    "separacao_R.head()"
   ]
  },
  {
   "cell_type": "code",
   "execution_count": 13,
   "metadata": {
    "collapsed": false,
    "jupyter": {
     "outputs_hidden": false
    },
    "pycharm": {
     "is_executing": false,
     "name": "#%%\n"
    }
   },
   "outputs": [],
   "source": [
    "from win32com.client import Dispatch\n",
    "\n",
    "appexcel = Dispatch('Excel.Application')\n",
    "wb = appexcel.Workbooks.Open('C:\\\\Dev\\\\GitsLeo\\\\Karling\\\\Analises.xlsx')\n",
    "\n",
    "for i in range (1, 4, 1):\n",
    "    appexcel.Worksheets(i).Activate()\n",
    "    appexcel.ActiveSheet.Columns.AutoFit()\n",
    "\n",
    "appexcel.Worksheets(1).Activate()\n",
    "wb.Save()\n",
    "wb.Close()"
   ]
  },
  {
   "cell_type": "code",
   "execution_count": 22,
   "metadata": {
    "collapsed": false,
    "jupyter": {
     "outputs_hidden": false
    },
    "pycharm": {
     "name": "#%%\n"
    }
   },
   "outputs": [
    {
     "data": {
      "text/html": [
       "<div>\n",
       "<style scoped>\n",
       "    .dataframe tbody tr th:only-of-type {\n",
       "        vertical-align: middle;\n",
       "    }\n",
       "\n",
       "    .dataframe tbody tr th {\n",
       "        vertical-align: top;\n",
       "    }\n",
       "\n",
       "    .dataframe thead th {\n",
       "        text-align: right;\n",
       "    }\n",
       "</style>\n",
       "<table border=\"1\" class=\"dataframe\">\n",
       "  <thead>\n",
       "    <tr style=\"text-align: right;\">\n",
       "      <th></th>\n",
       "      <th>Tensão R</th>\n",
       "      <th>Corrente R</th>\n",
       "    </tr>\n",
       "  </thead>\n",
       "  <tbody>\n",
       "    <tr>\n",
       "      <th>count</th>\n",
       "      <td>1134.000000</td>\n",
       "      <td>1134.000000</td>\n",
       "    </tr>\n",
       "    <tr>\n",
       "      <th>mean</th>\n",
       "      <td>216.756561</td>\n",
       "      <td>13.485185</td>\n",
       "    </tr>\n",
       "    <tr>\n",
       "      <th>std</th>\n",
       "      <td>3.982818</td>\n",
       "      <td>5.058024</td>\n",
       "    </tr>\n",
       "    <tr>\n",
       "      <th>min</th>\n",
       "      <td>205.710000</td>\n",
       "      <td>10.050000</td>\n",
       "    </tr>\n",
       "    <tr>\n",
       "      <th>25%</th>\n",
       "      <td>214.070000</td>\n",
       "      <td>10.570000</td>\n",
       "    </tr>\n",
       "    <tr>\n",
       "      <th>50%</th>\n",
       "      <td>215.890000</td>\n",
       "      <td>11.170000</td>\n",
       "    </tr>\n",
       "    <tr>\n",
       "      <th>75%</th>\n",
       "      <td>220.750000</td>\n",
       "      <td>13.992500</td>\n",
       "    </tr>\n",
       "    <tr>\n",
       "      <th>max</th>\n",
       "      <td>225.530000</td>\n",
       "      <td>32.650000</td>\n",
       "    </tr>\n",
       "  </tbody>\n",
       "</table>\n",
       "</div>"
      ],
      "text/plain": [
       "          Tensão R   Corrente R\n",
       "count  1134.000000  1134.000000\n",
       "mean    216.756561    13.485185\n",
       "std       3.982818     5.058024\n",
       "min     205.710000    10.050000\n",
       "25%     214.070000    10.570000\n",
       "50%     215.890000    11.170000\n",
       "75%     220.750000    13.992500\n",
       "max     225.530000    32.650000"
      ]
     },
     "execution_count": 22,
     "metadata": {},
     "output_type": "execute_result"
    }
   ],
   "source": [
    "separacao_R.describe()"
   ]
  },
  {
   "cell_type": "code",
   "execution_count": 23,
   "metadata": {},
   "outputs": [
    {
     "data": {
      "text/html": [
       "<div>\n",
       "<style scoped>\n",
       "    .dataframe tbody tr th:only-of-type {\n",
       "        vertical-align: middle;\n",
       "    }\n",
       "\n",
       "    .dataframe tbody tr th {\n",
       "        vertical-align: top;\n",
       "    }\n",
       "\n",
       "    .dataframe thead th {\n",
       "        text-align: right;\n",
       "    }\n",
       "</style>\n",
       "<table border=\"1\" class=\"dataframe\">\n",
       "  <thead>\n",
       "    <tr style=\"text-align: right;\">\n",
       "      <th></th>\n",
       "      <th>Tensão R</th>\n",
       "      <th>Corrente R</th>\n",
       "      <th>FP R</th>\n",
       "      <th>Tensão S</th>\n",
       "      <th>Corrente S</th>\n",
       "      <th>FP S</th>\n",
       "    </tr>\n",
       "  </thead>\n",
       "  <tbody>\n",
       "    <tr>\n",
       "      <th>count</th>\n",
       "      <td>51158.000000</td>\n",
       "      <td>51158.000000</td>\n",
       "      <td>51158.000000</td>\n",
       "      <td>51158.000000</td>\n",
       "      <td>51158.000000</td>\n",
       "      <td>51158.000000</td>\n",
       "    </tr>\n",
       "    <tr>\n",
       "      <th>mean</th>\n",
       "      <td>220.098474</td>\n",
       "      <td>2.119204</td>\n",
       "      <td>0.951756</td>\n",
       "      <td>221.466138</td>\n",
       "      <td>3.198066</td>\n",
       "      <td>0.937743</td>\n",
       "    </tr>\n",
       "    <tr>\n",
       "      <th>std</th>\n",
       "      <td>4.190390</td>\n",
       "      <td>2.724792</td>\n",
       "      <td>0.265722</td>\n",
       "      <td>4.411848</td>\n",
       "      <td>3.099542</td>\n",
       "      <td>0.135731</td>\n",
       "    </tr>\n",
       "    <tr>\n",
       "      <th>min</th>\n",
       "      <td>0.000000</td>\n",
       "      <td>0.000000</td>\n",
       "      <td>-0.990000</td>\n",
       "      <td>0.000000</td>\n",
       "      <td>0.000000</td>\n",
       "      <td>-0.990000</td>\n",
       "    </tr>\n",
       "    <tr>\n",
       "      <th>25%</th>\n",
       "      <td>217.390000</td>\n",
       "      <td>0.000000</td>\n",
       "      <td>0.970000</td>\n",
       "      <td>218.120000</td>\n",
       "      <td>1.300000</td>\n",
       "      <td>0.880000</td>\n",
       "    </tr>\n",
       "    <tr>\n",
       "      <th>50%</th>\n",
       "      <td>220.210000</td>\n",
       "      <td>1.400000</td>\n",
       "      <td>1.000000</td>\n",
       "      <td>222.090000</td>\n",
       "      <td>2.200000</td>\n",
       "      <td>1.000000</td>\n",
       "    </tr>\n",
       "    <tr>\n",
       "      <th>75%</th>\n",
       "      <td>223.310000</td>\n",
       "      <td>4.320000</td>\n",
       "      <td>1.000000</td>\n",
       "      <td>224.920000</td>\n",
       "      <td>5.070000</td>\n",
       "      <td>1.000000</td>\n",
       "    </tr>\n",
       "    <tr>\n",
       "      <th>max</th>\n",
       "      <td>228.870000</td>\n",
       "      <td>32.650000</td>\n",
       "      <td>1.000000</td>\n",
       "      <td>230.250000</td>\n",
       "      <td>37.450000</td>\n",
       "      <td>1.000000</td>\n",
       "    </tr>\n",
       "  </tbody>\n",
       "</table>\n",
       "</div>"
      ],
      "text/plain": [
       "           Tensão R    Corrente R          FP R      Tensão S    Corrente S  \\\n",
       "count  51158.000000  51158.000000  51158.000000  51158.000000  51158.000000   \n",
       "mean     220.098474      2.119204      0.951756    221.466138      3.198066   \n",
       "std        4.190390      2.724792      0.265722      4.411848      3.099542   \n",
       "min        0.000000      0.000000     -0.990000      0.000000      0.000000   \n",
       "25%      217.390000      0.000000      0.970000    218.120000      1.300000   \n",
       "50%      220.210000      1.400000      1.000000    222.090000      2.200000   \n",
       "75%      223.310000      4.320000      1.000000    224.920000      5.070000   \n",
       "max      228.870000     32.650000      1.000000    230.250000     37.450000   \n",
       "\n",
       "               FP S  \n",
       "count  51158.000000  \n",
       "mean       0.937743  \n",
       "std        0.135731  \n",
       "min       -0.990000  \n",
       "25%        0.880000  \n",
       "50%        1.000000  \n",
       "75%        1.000000  \n",
       "max        1.000000  "
      ]
     },
     "execution_count": 23,
     "metadata": {},
     "output_type": "execute_result"
    }
   ],
   "source": [
    "medicao.describe()"
   ]
  },
  {
   "cell_type": "code",
   "execution_count": 26,
   "metadata": {},
   "outputs": [
    {
     "data": {
      "text/plain": [
       "2.2166621056335276"
      ]
     },
     "execution_count": 26,
     "metadata": {},
     "output_type": "execute_result"
    }
   ],
   "source": [
    "porcentagem = (1134*100)/51158\n",
    "porcentagem"
   ]
  },
  {
   "cell_type": "code",
   "execution_count": null,
   "metadata": {},
   "outputs": [],
   "source": []
  }
 ],
 "metadata": {
  "kernelspec": {
   "display_name": "Python 3",
   "language": "python",
   "name": "python3"
  },
  "language_info": {
   "codemirror_mode": {
    "name": "ipython",
    "version": 3
   },
   "file_extension": ".py",
   "mimetype": "text/x-python",
   "name": "python",
   "nbconvert_exporter": "python",
   "pygments_lexer": "ipython3",
   "version": "3.6.9"
  },
  "pycharm": {
   "stem_cell": {
    "cell_type": "raw",
    "metadata": {
     "collapsed": false
    },
    "source": []
   }
  }
 },
 "nbformat": 4,
 "nbformat_minor": 4
}
